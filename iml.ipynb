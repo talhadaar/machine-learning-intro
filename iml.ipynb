{
 "cells": [
  {
   "cell_type": "markdown",
   "id": "cba207be",
   "metadata": {},
   "source": [
    "# Week 2 - Oct 25th 2022"
   ]
  },
  {
   "cell_type": "code",
   "execution_count": 2,
   "id": "0ec92ad5",
   "metadata": {},
   "outputs": [
    {
     "data": {
      "text/plain": [
       "0.2645751311064593"
      ]
     },
     "execution_count": 2,
     "metadata": {},
     "output_type": "execute_result"
    }
   ],
   "source": [
    "import numpy as np\n",
    "import pandas as pd\n",
    "import numpy as np\n",
    "import math\n",
    "import random as rnd\n",
    "\n",
    "\n",
    "# For euclidean distance we can also do np.linalg.norm(x - y), where x and y are same size and ndim arrays\n",
    "\n",
    "def euclidean_distance(target, choice):\n",
    "    sum = 0\n",
    "    for t, c in zip(target, choice):\n",
    "        sum+=math.pow(t-c, 2)\n",
    "    return math.sqrt(sum)\n",
    "\n",
    "arr = np.loadtxt(\"iris_f22.txt\",\n",
    "                 delimiter=\",\", dtype=float)\n",
    "\n",
    "# distances = np.zeros(len(arr))\n",
    "distances = []\n",
    "flower_index = rnd.randint(0, len(arr)-1)\n",
    "flower = arr[flower_index]\n",
    "arr = np.delete(arr, flower_index, 0);\n",
    "\n",
    "for row in arr:\n",
    "    distances.append(euclidean_distance(row, flower))\n",
    "\n",
    "distances = np.asarray(distances)\n",
    "distances.min()"
   ]
  },
  {
   "cell_type": "code",
   "execution_count": null,
   "id": "08c2b122",
   "metadata": {},
   "outputs": [],
   "source": []
  }
 ],
 "metadata": {
  "kernelspec": {
   "display_name": "Python 3.9.12 ('base')",
   "language": "python",
   "name": "python3"
  },
  "language_info": {
   "codemirror_mode": {
    "name": "ipython",
    "version": 3
   },
   "file_extension": ".py",
   "mimetype": "text/x-python",
   "name": "python",
   "nbconvert_exporter": "python",
   "pygments_lexer": "ipython3",
   "version": "3.9.12"
  },
  "vscode": {
   "interpreter": {
    "hash": "7a5f4699bf1e1bb2042dca40e01832154fdbd6cf77a843a46b9bbbde19418e8b"
   }
  }
 },
 "nbformat": 4,
 "nbformat_minor": 5
}
