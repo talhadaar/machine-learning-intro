{
 "cells": [
  {
   "cell_type": "markdown",
   "id": "cde093d0",
   "metadata": {},
   "source": [
    "# Exercise 3"
   ]
  },
  {
   "cell_type": "code",
   "execution_count": 2,
   "id": "ccc0b5ca",
   "metadata": {},
   "outputs": [],
   "source": [
    "import matplotlib.pyplot as plt\n",
    "import pandas as pd\n",
    "import math\n",
    "import pickle\n",
    "import platform\n",
    "import os\n",
    "import numpy as np\n",
    "from numpy.ma import exp\n",
    "from skimage.transform import resize"
   ]
  },
  {
   "cell_type": "code",
   "execution_count": 3,
   "id": "441f9ad0",
   "metadata": {},
   "outputs": [],
   "source": [
    "df_excel=pd.read_excel(r'ETHUSDT-5m-2022-01.xlsx')\n",
    "lookback=50\n",
    "lookforward=10\n",
    "\n",
    "#creating empty lists to store lists from inside\n",
    "list_Open=[]\n",
    "list_High=[]\n",
    "list_Low=[]\n",
    "list_Close=[]\n",
    "list_Volume=[]\n",
    "list_RSI=[]\n",
    "list_Signal=[] #0 for no change, 1 for 0.5%up, 2 for 1%up, 3 for 0.5%down, 4 for 1%down\n",
    "\n",
    "\n",
    "i=lookback\n",
    "while i+lookforward<len(df_excel.Close):\n",
    "    closing_val=df_excel.Close[i] #check the index if working normal\n",
    "    value_above_half=1.005*closing_val\n",
    "    value_above_full=1.01*closing_val\n",
    "    value_below_half=0.995*closing_val\n",
    "    value_below_full=0.99*closing_val\n",
    "    \n",
    "    \n",
    "    stay=True\n",
    "    j=i+1\n",
    "    while (j<=i+lookforward) and stay==True:\n",
    "        #main if to see if we went above or below half percent\n",
    "        if df_excel.Close[j]>=value_above_half or df_excel.Close[j]<=value_below_half:\n",
    " \n",
    "            #if we went half percent above\n",
    "            if df_excel.Close[j]>=value_above_half:\n",
    "            \n",
    "                #Adding data to required lists\n",
    "                list_Signal.append(1)\n",
    "                list_Open.append(df_excel.Open[i-lookback:i].tolist())\n",
    "                list_High.append(df_excel.High[i-lookback:i].tolist())\n",
    "                list_Low.append(df_excel.Low[i-lookback:i].tolist())\n",
    "                list_Close.append(df_excel.Close[i-lookback:i].tolist())\n",
    "                list_Volume.append(df_excel.Volume[i-lookback:i].tolist())\n",
    "                \n",
    "                #loop to see if we went further up to 1 percent, or dropped back to entry\n",
    "                while (j<=i+lookforward):\n",
    "                    if df_excel.Close[j]>=value_above_full:\n",
    "                        \n",
    "                        #Adding data to required lists\n",
    "                        list_Signal.append(2)\n",
    "                        list_Open.append(df_excel.Open[i-lookback:i].tolist())\n",
    "                        list_High.append(df_excel.High[i-lookback:i].tolist())\n",
    "                        list_Low.append(df_excel.Low[i-lookback:i].tolist())\n",
    "                        list_Close.append(df_excel.Close[i-lookback:i].tolist())\n",
    "                        list_Volume.append(df_excel.Volume[i-lookback:i].tolist())\n",
    "                        \n",
    "                        stay=False\n",
    "                        break\n",
    "                    elif df_excel.Low[j]<=closing_val: #using Low value here because it will hit stop loss\n",
    "                        stay=False\n",
    "                        break\n",
    "                    j=j+1\n",
    "                break\n",
    "            \n",
    "            \n",
    "            #if we went half percent below\n",
    "            if df_excel.Close[j]<=value_below_half:\n",
    "                \n",
    "                #Adding data to required lists\n",
    "                list_Signal.append(3)\n",
    "                list_Open.append(df_excel.Open[i-lookback:i].tolist())\n",
    "                list_High.append(df_excel.High[i-lookback:i].tolist())\n",
    "                list_Low.append(df_excel.Low[i-lookback:i].tolist())\n",
    "                list_Close.append(df_excel.Close[i-lookback:i].tolist())\n",
    "                list_Volume.append(df_excel.Volume[i-lookback:i].tolist())\n",
    "                \n",
    "                #loop to see if we went further down to -1 percent, or rose back to entry\n",
    "                while (j<=i+lookforward):\n",
    "                    if df_excel.Close[j]<=value_below_full:\n",
    "                        \n",
    "                        #Adding data to required lists\n",
    "                        list_Signal.append(4)\n",
    "                        list_Open.append(df_excel.Open[i-lookback:i].tolist())\n",
    "                        list_High.append(df_excel.High[i-lookback:i].tolist())\n",
    "                        list_Low.append(df_excel.Low[i-lookback:i].tolist())\n",
    "                        list_Close.append(df_excel.Close[i-lookback:i].tolist())\n",
    "                        list_Volume.append(df_excel.Volume[i-lookback:i].tolist())\n",
    "\n",
    "                        stay=False\n",
    "                        break\n",
    "                    elif df_excel.High[j]>=closing_val: #using High value here because it will hit stop loss\n",
    "                        stay=False\n",
    "                        break\n",
    "                    j=j+1\n",
    "                break\n",
    "        \n",
    "        j=j+1\n",
    "        if j==i+lookforward+1:\n",
    "            \n",
    "            #Adding data to required lists\n",
    "            list_Signal.append(0)\n",
    "            list_Open.append(df_excel.Open[i-lookback:i].tolist())\n",
    "            list_High.append(df_excel.High[i-lookback:i].tolist())\n",
    "            list_Low.append(df_excel.Low[i-lookback:i].tolist())\n",
    "            list_Close.append(df_excel.Close[i-lookback:i].tolist())\n",
    "            list_Volume.append(df_excel.Volume[i-lookback:i].tolist())\n",
    "            \n",
    "    i=i+1     "
   ]
  },
  {
   "cell_type": "code",
   "execution_count": 4,
   "id": "1b6f9000",
   "metadata": {},
   "outputs": [],
   "source": [
    "list_Open=np.array(list_Open)\n",
    "list_High=np.array(list_Open)\n",
    "list_Low=np.array(list_Low)\n",
    "list_Close=np.array(list_Close)\n",
    "list_Volume=np.array(list_Volume)\n",
    "list_RSI=np.array(list_RSI)\n",
    "list_Signal=np.array(list_Signal)\n",
    "total_data=np.concatenate((list_Open,list_High,list_Low,list_Close,list_Volume),axis=1)"
   ]
  },
  {
   "cell_type": "code",
   "execution_count": 8,
   "id": "77e4d676",
   "metadata": {},
   "outputs": [
    {
     "data": {
      "text/plain": [
       "(10502, 250)"
      ]
     },
     "execution_count": 8,
     "metadata": {},
     "output_type": "execute_result"
    }
   ],
   "source": [
    "total_data.shape"
   ]
  },
  {
   "cell_type": "code",
   "execution_count": 2,
   "id": "d46aa255",
   "metadata": {},
   "outputs": [],
   "source": [
    "def cifar_10_naivebayes_learn(Xp, Y):\n",
    "    \n",
    "    df=pd.DataFrame(Xp)\n",
    "    df[len(df.columns)]=pd.DataFrame(Y)\n",
    "   \n",
    "    mu = np.array(df.groupby(len(df.columns)-1).mean())\n",
    "    sigma = np.array(df.groupby(len(df.columns)-1).std())\n",
    "    prior = np.array(df.groupby(len(df.columns)-1).size().div(len(df))).reshape(10,1)   \n",
    "    \n",
    "    return (mu,sigma,prior)\n"
   ]
  },
  {
   "cell_type": "code",
   "execution_count": 11,
   "id": "64708012",
   "metadata": {},
   "outputs": [],
   "source": [
    "def cfar_10_bayes_learn(Xf,Y):\n",
    "   \n",
    "    df=pd.DataFrame(Xf)\n",
    "    df[len(df.columns)]=pd.DataFrame(Y)\n",
    "    mu = np.array(df.groupby(len(df.columns)-1).mean())\n",
    "    sigma = np.array(df.groupby(len(df.columns)-1).cov()).reshape(5,Xf.shape[1],Xf.shape[1])\n",
    "    prior = np.array(df.groupby(len(df.columns)-1).size().div(len(df))).reshape(5,1)\n",
    "    \n",
    "    return (mu,sigma,prior)"
   ]
  },
  {
   "cell_type": "code",
   "execution_count": 4,
   "id": "667d9563",
   "metadata": {},
   "outputs": [],
   "source": [
    "def Gaussian_pdf(x, mu, sigma):\n",
    "    variance = float(sigma)**2\n",
    "    denom = (2*math.pi*variance)**.5\n",
    "    num = math.exp(-(float(x)-float(mu))**2/(2*variance))\n",
    "    return num/denom"
   ]
  },
  {
   "cell_type": "code",
   "execution_count": 12,
   "id": "eceef383",
   "metadata": {},
   "outputs": [],
   "source": [
    "def Gaussian_multi_var(X, miu, sigma):\n",
    "\n",
    "    if sigma.shape != (miu.size, miu.size):\n",
    "        print(\"Wrong dimensions\")\n",
    "    else:\n",
    "        \n",
    "        X = X.reshape(1, -1)\n",
    "        miu = miu.reshape(1, -1)\n",
    "        numerator = exp((-1/2)*((X-miu) @ np.linalg.inv(sigma) @ np.transpose((X-miu))))\n",
    "        sign, log = np.linalg.slogdet(sigma)\n",
    "        denominator = (pow(2*np.pi, miu.size/2) * np.sqrt(sign*np.exp(log/5)))\n",
    "        return np.array(numerator/denominator)\n",
    "        \n",
    "            \n",
    "\n",
    "        "
   ]
  },
  {
   "cell_type": "code",
   "execution_count": 6,
   "id": "6ab6c198",
   "metadata": {},
   "outputs": [],
   "source": [
    "def cifar10_classifier_naivebayes(x,mu,sigma,p):\n",
    "    pred=np.empty((10,1))\n",
    "    for classes in range(0,10):\n",
    "        numerator = Gaussian_pdf(x[0],mu[classes][0],sigma[classes][0])*Gaussian_pdf(x[1],mu[classes][1],sigma[classes][1])*Gaussian_pdf(x[2],mu[classes][2],sigma[classes][2])*p[classes]\n",
    "        denom =0\n",
    "        for j in range(0,10):\n",
    "            denom += Gaussian_pdf(x[0],mu[j][0],sigma[j][0])*Gaussian_pdf(x[1],mu[j][1],sigma[j][1])*Gaussian_pdf(x[2],mu[j][2],sigma[j][2])*p[j]\n",
    "        \n",
    "        pred[classes]=numerator/denom         \n",
    "                             \n",
    "    return np.argmax(pred)"
   ]
  },
  {
   "cell_type": "code",
   "execution_count": 16,
   "id": "44690806",
   "metadata": {},
   "outputs": [],
   "source": [
    "def cifar10_classifier_bayes(x,mu,sigma,p):\n",
    "    pred=np.empty((5,1))\n",
    "    for classes in range(0,5):\n",
    "        numerator = Gaussian_multi_var(x,mu[classes],sigma[classes])*p[classes]\n",
    "        denom = 0\n",
    "        for j in range(0,5):\n",
    "            denom+=Gaussian_multi_var(x,mu[j],sigma[j])*p[j]\n",
    "        \n",
    "        pred[classes]=numerator/denom\n",
    "        \n",
    "    \n",
    "    return np.argmax(pred)\n",
    "        "
   ]
  },
  {
   "cell_type": "code",
   "execution_count": 8,
   "id": "e03ace6e",
   "metadata": {},
   "outputs": [],
   "source": [
    "def cfar10_color(X):\n",
    "    Xp = np.empty((X.shape[0], 3))\n",
    "    for idx, image in enumerate(X):\n",
    "        Xp[idx] = resize(image, (1, 1)).flatten()\n",
    "        \n",
    "    return Xp\n"
   ]
  },
  {
   "cell_type": "code",
   "execution_count": 9,
   "id": "28f2c2fa",
   "metadata": {},
   "outputs": [],
   "source": [
    "def cfar10_xXx_color(X,shape):\n",
    "    Xp = np.empty((X.shape[0], shape*shape*3))\n",
    "    for idx, image in enumerate(X):\n",
    "        Xp[idx] = resize(image, (shape, shape)).flatten()\n",
    "        \n",
    "    return Xp\n"
   ]
  },
  {
   "cell_type": "code",
   "execution_count": 14,
   "id": "4bcce430",
   "metadata": {},
   "outputs": [],
   "source": [
    "def class_acc(pred, gt):\n",
    "    true = 0\n",
    "\n",
    "    for labels in zip(pred, gt):\n",
    "        if labels[0] == labels[1]:\n",
    "            true += 1\n",
    "\n",
    "    return (true/len(gt))*100\n",
    "\n"
   ]
  },
  {
   "cell_type": "code",
   "execution_count": 11,
   "id": "e6b79e91",
   "metadata": {},
   "outputs": [],
   "source": [
    "def load_pickle(f):\n",
    "    version = platform.python_version_tuple()\n",
    "    if version[0] == '2':\n",
    "        return  pickle.load(f)\n",
    "    elif version[0] == '3':\n",
    "        return  pickle.load(f, encoding='latin1')\n",
    "    raise ValueError(\"invalid python version: {}\".format(version))\n",
    "\n",
    "def load_CIFAR_batch(filename):\n",
    "    \"\"\" load single batch of cifar \"\"\"\n",
    "    with open(filename, 'rb') as f:\n",
    "        datadict = load_pickle(f)\n",
    "        X = datadict['data']\n",
    "        Y = datadict['labels']\n",
    "        X = X.reshape(10000, 3, 32, 32).transpose(0, 2, 3, 1).astype(\"int32\")\n",
    "        Y = np.array(Y)\n",
    "        return X, Y\n",
    "\n",
    "def load_CIFAR10(ROOT):\n",
    "    \"\"\" load all of cifar \"\"\"\n",
    "    xs = []\n",
    "    ys = []\n",
    "    for b in range(1,6):\n",
    "        f = os.path.join(ROOT, 'data_batch_%d' % (b, ))\n",
    "        X, Y = load_CIFAR_batch(f)\n",
    "        xs.append(X)\n",
    "        ys.append(Y)\n",
    "    Xtr = np.concatenate(xs)\n",
    "    Ytr = np.concatenate(ys)\n",
    "    del X, Y\n",
    "    Xte, Yte = load_CIFAR_batch(os.path.join(ROOT, 'test_batch'))\n",
    "    return Xtr, Ytr, Xte, Yte"
   ]
  },
  {
   "cell_type": "code",
   "execution_count": 20,
   "id": "93b5a525",
   "metadata": {},
   "outputs": [],
   "source": [
    "X,Y,Xt,Yt = load_CIFAR10(r'./cifar-10-python/cifar-10-batches-py/')"
   ]
  },
  {
   "cell_type": "code",
   "execution_count": 21,
   "id": "b1c895ca",
   "metadata": {},
   "outputs": [
    {
     "data": {
      "text/plain": [
       "(50000, 32, 32, 3)"
      ]
     },
     "execution_count": 21,
     "metadata": {},
     "output_type": "execute_result"
    }
   ],
   "source": [
    "X.shape"
   ]
  },
  {
   "cell_type": "code",
   "execution_count": 26,
   "id": "74be6b43",
   "metadata": {},
   "outputs": [],
   "source": [
    "\n",
    "def unpickle(file):\n",
    "    with open(file, 'rb') as f:\n",
    "        dict = pickle.load(f, encoding=\"latin1\")\n",
    "    return dict\n",
    "\n",
    "\n",
    "#datadict = unpickle('/home/kamarain/Data/cifar-10-batches-py/data_batch_1')\n",
    "datadict = unpickle(\n",
    "    r'E:/Data/University/ML.DATA.100/Exercise 2/cifar-10-python/cifar-10-batches-py/data_batch_1')\n",
    "\n",
    "X = datadict[\"data\"]\n",
    "Y = datadict[\"labels\"]\n",
    "X = X.reshape(10000, 3, 32, 32).transpose(0, 2, 3, 1).astype(\"int32\")\n",
    "Y = np.array(Y)\n",
    "\n",
    "labeldict = unpickle(\n",
    "    r'E:/Data/University/ML.DATA.100/Exercise 2/cifar-10-python/cifar-10-batches-py/batches.meta')\n",
    "label_names = labeldict[\"label_names\"]\n"
   ]
  },
  {
   "cell_type": "code",
   "execution_count": 9,
   "id": "53038c85",
   "metadata": {},
   "outputs": [],
   "source": [
    "image_size =[]\n",
    "accuracy = []"
   ]
  },
  {
   "cell_type": "markdown",
   "id": "34f2abc3",
   "metadata": {},
   "source": [
    "# Naive Bayes Classifier 1x1"
   ]
  },
  {
   "cell_type": "code",
   "execution_count": 25,
   "id": "8a9f085e",
   "metadata": {},
   "outputs": [
    {
     "name": "stdout",
     "output_type": "stream",
     "text": [
      "Naive Bayes Accuracy:  19.54\n"
     ]
    }
   ],
   "source": [
    "X_1x1 = cfar10_xXx_color(X,1)\n",
    "Xt_1x1 = cfar10_xXx_color(Xt,1)\n",
    "mu,sigma,p = cifar_10_naivebayes_learn(X_1x1,Y)\n",
    "preds = [cifar10_classifier_naivebayes(x,mu,sigma,p) for x in Xt_1x1]\n",
    "\n",
    "image_size.append((1,1))\n",
    "accuracy.append(class_acc(preds,Yt))\n",
    "\n",
    "print(\"Naive Bayes Accuracy: \",class_acc(preds,Yt))"
   ]
  },
  {
   "cell_type": "markdown",
   "id": "476b12ef",
   "metadata": {},
   "source": [
    "# Bayes Classifier 1x1 "
   ]
  },
  {
   "cell_type": "code",
   "execution_count": 23,
   "id": "88e3e538",
   "metadata": {},
   "outputs": [
    {
     "ename": "NameError",
     "evalue": "name 'X_1x1' is not defined",
     "output_type": "error",
     "traceback": [
      "\u001b[1;31m---------------------------------------------------------------------------\u001b[0m",
      "\u001b[1;31mNameError\u001b[0m                                 Traceback (most recent call last)",
      "\u001b[1;32m~\\AppData\\Local\\Temp/ipykernel_15260/4208027063.py\u001b[0m in \u001b[0;36m<module>\u001b[1;34m\u001b[0m\n\u001b[1;32m----> 1\u001b[1;33m \u001b[0mmu\u001b[0m\u001b[1;33m,\u001b[0m\u001b[0msigma\u001b[0m\u001b[1;33m,\u001b[0m\u001b[0mp\u001b[0m \u001b[1;33m=\u001b[0m \u001b[0mcfar_10_bayes_learn\u001b[0m\u001b[1;33m(\u001b[0m\u001b[0mX_1x1\u001b[0m\u001b[1;33m,\u001b[0m\u001b[0mY\u001b[0m\u001b[1;33m)\u001b[0m\u001b[1;33m\u001b[0m\u001b[1;33m\u001b[0m\u001b[0m\n\u001b[0m\u001b[0;32m      2\u001b[0m \u001b[0mpreds\u001b[0m \u001b[1;33m=\u001b[0m \u001b[1;33m[\u001b[0m\u001b[0mcifar10_classifier_bayes\u001b[0m\u001b[1;33m(\u001b[0m\u001b[0mx\u001b[0m\u001b[1;33m,\u001b[0m\u001b[0mmu\u001b[0m\u001b[1;33m,\u001b[0m\u001b[0msigma\u001b[0m\u001b[1;33m,\u001b[0m\u001b[0mp\u001b[0m\u001b[1;33m)\u001b[0m \u001b[1;32mfor\u001b[0m \u001b[0mx\u001b[0m \u001b[1;32min\u001b[0m \u001b[0mXt_1x1\u001b[0m\u001b[1;33m]\u001b[0m\u001b[1;33m\u001b[0m\u001b[1;33m\u001b[0m\u001b[0m\n\u001b[0;32m      3\u001b[0m \u001b[1;33m\u001b[0m\u001b[0m\n\u001b[0;32m      4\u001b[0m \u001b[0mimage_size\u001b[0m\u001b[1;33m.\u001b[0m\u001b[0mappend\u001b[0m\u001b[1;33m(\u001b[0m\u001b[1;33m(\u001b[0m\u001b[1;36m1\u001b[0m\u001b[1;33m,\u001b[0m\u001b[1;36m1\u001b[0m\u001b[1;33m)\u001b[0m\u001b[1;33m)\u001b[0m\u001b[1;33m\u001b[0m\u001b[1;33m\u001b[0m\u001b[0m\n\u001b[0;32m      5\u001b[0m \u001b[0maccuracy\u001b[0m\u001b[1;33m.\u001b[0m\u001b[0mappend\u001b[0m\u001b[1;33m(\u001b[0m\u001b[0mclass_acc\u001b[0m\u001b[1;33m(\u001b[0m\u001b[0mpreds\u001b[0m\u001b[1;33m,\u001b[0m\u001b[0mYt\u001b[0m\u001b[1;33m)\u001b[0m\u001b[1;33m)\u001b[0m\u001b[1;33m\u001b[0m\u001b[1;33m\u001b[0m\u001b[0m\n",
      "\u001b[1;31mNameError\u001b[0m: name 'X_1x1' is not defined"
     ]
    }
   ],
   "source": [
    "\n",
    "mu,sigma,p = cfar_10_bayes_learn(X_1x1,Y)\n",
    "preds = [cifar10_classifier_bayes(x,mu,sigma,p) for x in Xt_1x1]\n",
    "\n",
    "image_size.append((1,1))\n",
    "accuracy.append(class_acc(preds,Yt))\n",
    "print(\"Bayes Accuracy 1x1: \",class_acc(preds,Yt))"
   ]
  },
  {
   "cell_type": "markdown",
   "id": "3f55591f",
   "metadata": {},
   "source": [
    "# Bayes Classifier crypto\n",
    "\n"
   ]
  },
  {
   "cell_type": "code",
   "execution_count": 18,
   "id": "b196dd16",
   "metadata": {
    "scrolled": true
   },
   "outputs": [
    {
     "name": "stderr",
     "output_type": "stream",
     "text": [
      "s:\\Data\\Softwares\\Anaconda3\\lib\\site-packages\\numpy\\ma\\core.py:944: RuntimeWarning: overflow encountered in exp\n",
      "  result = self.f(d, *args, **kwargs)\n",
      "C:\\Users\\Uzair\\AppData\\Local\\Temp/ipykernel_16712/528671311.py:11: RuntimeWarning: invalid value encountered in sqrt\n",
      "  denominator = (pow(2*np.pi, miu.size/2) * np.sqrt(sign*np.exp(log/5)))\n",
      "C:\\Users\\Uzair\\AppData\\Local\\Temp/ipykernel_16712/405762922.py:9: RuntimeWarning: invalid value encountered in true_divide\n",
      "  pred[classes]=numerator/denom\n"
     ]
    }
   ],
   "source": [
    "# X_2x2 = cfar10_xXx_color(X,2)\n",
    "# Xt_2x2 = cfar10_xXx_color(Xt,2)\n",
    "mu,sigma,p = cfar_10_bayes_learn(total_data,list_Signal)\n",
    "preds = [cifar10_classifier_bayes(x,mu,sigma,p) for x in total_data]\n",
    "\n",
    "#image_size.append((2,2))\n",
    "#accuracy.append(class_acc(preds,list_Signal))\n",
    "print(\"Bayes Accuracy for crypto: \",class_acc(preds,list_Signal))"
   ]
  },
  {
   "cell_type": "markdown",
   "id": "5eb28468",
   "metadata": {},
   "source": [
    "Testing"
   ]
  },
  {
   "cell_type": "code",
   "execution_count": 47,
   "id": "967b469d",
   "metadata": {},
   "outputs": [],
   "source": [
    "df=pd.DataFrame(X_2x2)\n",
    "df[len(df.columns)]=pd.DataFrame(Y)\n",
    "mu = np.array(df.groupby(len(df.columns)-1).mean())\n",
    "# df[len(df.columns)]=pd.DataFrame(Y)\n",
    "# mu = np.array(df.groupby(len(df.columns)-1).mean())\n",
    "# sigma = np.array(df.groupby(len(df.columns)-1).cov()).reshape(10,Xf.shape[1],Xf.shape[1])\n",
    "# prior = np.array(df.groupby(len(df.columns)-1).size().div(len(df))).reshape(10,1)\n",
    "    "
   ]
  },
  {
   "cell_type": "code",
   "execution_count": 54,
   "id": "07e9fe94",
   "metadata": {},
   "outputs": [
    {
     "data": {
      "text/html": [
       "<div>\n",
       "<style scoped>\n",
       "    .dataframe tbody tr th:only-of-type {\n",
       "        vertical-align: middle;\n",
       "    }\n",
       "\n",
       "    .dataframe tbody tr th {\n",
       "        vertical-align: top;\n",
       "    }\n",
       "\n",
       "    .dataframe thead th {\n",
       "        text-align: right;\n",
       "    }\n",
       "</style>\n",
       "<table border=\"1\" class=\"dataframe\">\n",
       "  <thead>\n",
       "    <tr style=\"text-align: right;\">\n",
       "      <th></th>\n",
       "      <th>0</th>\n",
       "      <th>1</th>\n",
       "      <th>2</th>\n",
       "      <th>3</th>\n",
       "      <th>4</th>\n",
       "      <th>5</th>\n",
       "      <th>6</th>\n",
       "      <th>7</th>\n",
       "      <th>8</th>\n",
       "      <th>9</th>\n",
       "      <th>10</th>\n",
       "      <th>11</th>\n",
       "      <th>12</th>\n",
       "    </tr>\n",
       "  </thead>\n",
       "  <tbody>\n",
       "    <tr>\n",
       "      <th>0</th>\n",
       "      <td>5.913898e-08</td>\n",
       "      <td>4.167669e-08</td>\n",
       "      <td>2.526212e-08</td>\n",
       "      <td>6.239861e-08</td>\n",
       "      <td>4.528556e-08</td>\n",
       "      <td>2.805609e-08</td>\n",
       "      <td>7.241033e-08</td>\n",
       "      <td>5.378388e-08</td>\n",
       "      <td>3.224704e-08</td>\n",
       "      <td>6.775372e-08</td>\n",
       "      <td>5.273614e-08</td>\n",
       "      <td>3.085006e-08</td>\n",
       "      <td>6</td>\n",
       "    </tr>\n",
       "    <tr>\n",
       "      <th>1</th>\n",
       "      <td>6.426126e-08</td>\n",
       "      <td>6.845221e-08</td>\n",
       "      <td>7.287599e-08</td>\n",
       "      <td>6.414484e-08</td>\n",
       "      <td>6.309710e-08</td>\n",
       "      <td>5.774200e-08</td>\n",
       "      <td>5.867332e-08</td>\n",
       "      <td>5.925540e-08</td>\n",
       "      <td>6.309710e-08</td>\n",
       "      <td>5.448237e-08</td>\n",
       "      <td>5.122274e-08</td>\n",
       "      <td>4.889444e-08</td>\n",
       "      <td>9</td>\n",
       "    </tr>\n",
       "    <tr>\n",
       "      <th>2</th>\n",
       "      <td>9.185169e-08</td>\n",
       "      <td>9.161886e-08</td>\n",
       "      <td>9.010546e-08</td>\n",
       "      <td>8.067582e-08</td>\n",
       "      <td>7.892959e-08</td>\n",
       "      <td>7.706694e-08</td>\n",
       "      <td>4.074536e-08</td>\n",
       "      <td>4.260801e-08</td>\n",
       "      <td>4.144385e-08</td>\n",
       "      <td>3.282912e-08</td>\n",
       "      <td>3.562309e-08</td>\n",
       "      <td>3.562309e-08</td>\n",
       "      <td>9</td>\n",
       "    </tr>\n",
       "    <tr>\n",
       "      <th>3</th>\n",
       "      <td>4.260801e-08</td>\n",
       "      <td>3.539026e-08</td>\n",
       "      <td>2.398156e-08</td>\n",
       "      <td>4.540198e-08</td>\n",
       "      <td>3.830064e-08</td>\n",
       "      <td>2.654269e-08</td>\n",
       "      <td>4.970934e-08</td>\n",
       "      <td>4.074536e-08</td>\n",
       "      <td>2.805609e-08</td>\n",
       "      <td>4.901085e-08</td>\n",
       "      <td>4.074536e-08</td>\n",
       "      <td>2.828892e-08</td>\n",
       "      <td>4</td>\n",
       "    </tr>\n",
       "    <tr>\n",
       "      <th>4</th>\n",
       "      <td>4.400499e-08</td>\n",
       "      <td>5.331822e-08</td>\n",
       "      <td>6.286427e-08</td>\n",
       "      <td>4.470348e-08</td>\n",
       "      <td>5.424954e-08</td>\n",
       "      <td>6.658956e-08</td>\n",
       "      <td>4.610047e-08</td>\n",
       "      <td>4.528556e-08</td>\n",
       "      <td>4.516914e-08</td>\n",
       "      <td>3.399327e-08</td>\n",
       "      <td>3.539026e-08</td>\n",
       "      <td>3.899913e-08</td>\n",
       "      <td>1</td>\n",
       "    </tr>\n",
       "    <tr>\n",
       "      <th>...</th>\n",
       "      <td>...</td>\n",
       "      <td>...</td>\n",
       "      <td>...</td>\n",
       "      <td>...</td>\n",
       "      <td>...</td>\n",
       "      <td>...</td>\n",
       "      <td>...</td>\n",
       "      <td>...</td>\n",
       "      <td>...</td>\n",
       "      <td>...</td>\n",
       "      <td>...</td>\n",
       "      <td>...</td>\n",
       "      <td>...</td>\n",
       "    </tr>\n",
       "    <tr>\n",
       "      <th>49995</th>\n",
       "      <td>7.741619e-08</td>\n",
       "      <td>8.568168e-08</td>\n",
       "      <td>9.965152e-08</td>\n",
       "      <td>7.473864e-08</td>\n",
       "      <td>8.265488e-08</td>\n",
       "      <td>9.662472e-08</td>\n",
       "      <td>4.703179e-08</td>\n",
       "      <td>5.168840e-08</td>\n",
       "      <td>6.298069e-08</td>\n",
       "      <td>4.912727e-08</td>\n",
       "      <td>5.424954e-08</td>\n",
       "      <td>6.542541e-08</td>\n",
       "      <td>2</td>\n",
       "    </tr>\n",
       "    <tr>\n",
       "      <th>49996</th>\n",
       "      <td>9.301584e-08</td>\n",
       "      <td>7.427298e-08</td>\n",
       "      <td>3.469177e-08</td>\n",
       "      <td>9.930227e-08</td>\n",
       "      <td>8.405186e-08</td>\n",
       "      <td>3.946479e-08</td>\n",
       "      <td>9.604264e-08</td>\n",
       "      <td>6.542541e-08</td>\n",
       "      <td>2.689194e-08</td>\n",
       "      <td>9.918585e-08</td>\n",
       "      <td>7.159542e-08</td>\n",
       "      <td>2.840534e-08</td>\n",
       "      <td>6</td>\n",
       "    </tr>\n",
       "    <tr>\n",
       "      <th>49997</th>\n",
       "      <td>5.366746e-08</td>\n",
       "      <td>7.508788e-08</td>\n",
       "      <td>8.544885e-08</td>\n",
       "      <td>5.669426e-08</td>\n",
       "      <td>6.833579e-08</td>\n",
       "      <td>7.520430e-08</td>\n",
       "      <td>2.281740e-08</td>\n",
       "      <td>3.073364e-08</td>\n",
       "      <td>3.445894e-08</td>\n",
       "      <td>2.246816e-08</td>\n",
       "      <td>3.050081e-08</td>\n",
       "      <td>3.410969e-08</td>\n",
       "      <td>9</td>\n",
       "    </tr>\n",
       "    <tr>\n",
       "      <th>49998</th>\n",
       "      <td>8.859206e-08</td>\n",
       "      <td>9.324867e-08</td>\n",
       "      <td>1.001172e-07</td>\n",
       "      <td>8.451752e-08</td>\n",
       "      <td>8.940697e-08</td>\n",
       "      <td>9.639189e-08</td>\n",
       "      <td>6.624032e-08</td>\n",
       "      <td>6.658956e-08</td>\n",
       "      <td>6.717164e-08</td>\n",
       "      <td>6.181654e-08</td>\n",
       "      <td>6.426126e-08</td>\n",
       "      <td>6.635673e-08</td>\n",
       "      <td>1</td>\n",
       "    </tr>\n",
       "    <tr>\n",
       "      <th>49999</th>\n",
       "      <td>6.984919e-08</td>\n",
       "      <td>6.554183e-08</td>\n",
       "      <td>6.565824e-08</td>\n",
       "      <td>6.891787e-08</td>\n",
       "      <td>5.937181e-08</td>\n",
       "      <td>5.890615e-08</td>\n",
       "      <td>5.657785e-08</td>\n",
       "      <td>5.424954e-08</td>\n",
       "      <td>5.192123e-08</td>\n",
       "      <td>6.100163e-08</td>\n",
       "      <td>5.972106e-08</td>\n",
       "      <td>5.820766e-08</td>\n",
       "      <td>1</td>\n",
       "    </tr>\n",
       "  </tbody>\n",
       "</table>\n",
       "<p>50000 rows × 13 columns</p>\n",
       "</div>"
      ],
      "text/plain": [
       "                 0             1             2             3             4   \\\n",
       "0      5.913898e-08  4.167669e-08  2.526212e-08  6.239861e-08  4.528556e-08   \n",
       "1      6.426126e-08  6.845221e-08  7.287599e-08  6.414484e-08  6.309710e-08   \n",
       "2      9.185169e-08  9.161886e-08  9.010546e-08  8.067582e-08  7.892959e-08   \n",
       "3      4.260801e-08  3.539026e-08  2.398156e-08  4.540198e-08  3.830064e-08   \n",
       "4      4.400499e-08  5.331822e-08  6.286427e-08  4.470348e-08  5.424954e-08   \n",
       "...             ...           ...           ...           ...           ...   \n",
       "49995  7.741619e-08  8.568168e-08  9.965152e-08  7.473864e-08  8.265488e-08   \n",
       "49996  9.301584e-08  7.427298e-08  3.469177e-08  9.930227e-08  8.405186e-08   \n",
       "49997  5.366746e-08  7.508788e-08  8.544885e-08  5.669426e-08  6.833579e-08   \n",
       "49998  8.859206e-08  9.324867e-08  1.001172e-07  8.451752e-08  8.940697e-08   \n",
       "49999  6.984919e-08  6.554183e-08  6.565824e-08  6.891787e-08  5.937181e-08   \n",
       "\n",
       "                 5             6             7             8             9   \\\n",
       "0      2.805609e-08  7.241033e-08  5.378388e-08  3.224704e-08  6.775372e-08   \n",
       "1      5.774200e-08  5.867332e-08  5.925540e-08  6.309710e-08  5.448237e-08   \n",
       "2      7.706694e-08  4.074536e-08  4.260801e-08  4.144385e-08  3.282912e-08   \n",
       "3      2.654269e-08  4.970934e-08  4.074536e-08  2.805609e-08  4.901085e-08   \n",
       "4      6.658956e-08  4.610047e-08  4.528556e-08  4.516914e-08  3.399327e-08   \n",
       "...             ...           ...           ...           ...           ...   \n",
       "49995  9.662472e-08  4.703179e-08  5.168840e-08  6.298069e-08  4.912727e-08   \n",
       "49996  3.946479e-08  9.604264e-08  6.542541e-08  2.689194e-08  9.918585e-08   \n",
       "49997  7.520430e-08  2.281740e-08  3.073364e-08  3.445894e-08  2.246816e-08   \n",
       "49998  9.639189e-08  6.624032e-08  6.658956e-08  6.717164e-08  6.181654e-08   \n",
       "49999  5.890615e-08  5.657785e-08  5.424954e-08  5.192123e-08  6.100163e-08   \n",
       "\n",
       "                 10            11  12  \n",
       "0      5.273614e-08  3.085006e-08   6  \n",
       "1      5.122274e-08  4.889444e-08   9  \n",
       "2      3.562309e-08  3.562309e-08   9  \n",
       "3      4.074536e-08  2.828892e-08   4  \n",
       "4      3.539026e-08  3.899913e-08   1  \n",
       "...             ...           ...  ..  \n",
       "49995  5.424954e-08  6.542541e-08   2  \n",
       "49996  7.159542e-08  2.840534e-08   6  \n",
       "49997  3.050081e-08  3.410969e-08   9  \n",
       "49998  6.426126e-08  6.635673e-08   1  \n",
       "49999  5.972106e-08  5.820766e-08   1  \n",
       "\n",
       "[50000 rows x 13 columns]"
      ]
     },
     "execution_count": 54,
     "metadata": {},
     "output_type": "execute_result"
    }
   ],
   "source": [
    "df"
   ]
  },
  {
   "cell_type": "markdown",
   "id": "3ca38c92",
   "metadata": {},
   "source": [
    "# Bayes Classifier 4x4"
   ]
  },
  {
   "cell_type": "code",
   "execution_count": 28,
   "id": "16140e6a",
   "metadata": {},
   "outputs": [
    {
     "name": "stdout",
     "output_type": "stream",
     "text": [
      "Bayes Accuracy 4x4:  44.05\n"
     ]
    }
   ],
   "source": [
    "X_4x4 = cfar10_xXx_color(X,4)\n",
    "Xt_4x4 = cfar10_xXx_color(Xt,4)\n",
    "mu,sigma,p = cfar_10_bayes_learn(X_4x4,Y)\n",
    "preds = [cifar10_classifier_bayes(x,mu,sigma,p) for x in Xt_4x4]\n",
    "\n",
    "image_size.append((4,4))\n",
    "accuracy.append(class_acc(preds,Yt))\n",
    "print(\"Bayes Accuracy 4x4: \",class_acc(preds,Yt))"
   ]
  },
  {
   "cell_type": "markdown",
   "id": "4a7f8a69",
   "metadata": {},
   "source": [
    "# Bayes Classifier 5x5"
   ]
  },
  {
   "cell_type": "code",
   "execution_count": 30,
   "id": "a4cbb267",
   "metadata": {},
   "outputs": [
    {
     "name": "stdout",
     "output_type": "stream",
     "text": [
      "Bayes Accuracy 5x5:  54.74\n"
     ]
    }
   ],
   "source": [
    "X_5x5 = cfar10_xXx_color(X,5)\n",
    "Xt_5x5 = cfar10_xXx_color(X,5)\n",
    "mu,sigma,p = cfar_10_bayes_learn(X_5x5,Y)\n",
    "preds = [cifar10_classifier_bayes(x,mu,sigma,p) for x in Xt_5x5]\n",
    "\n",
    "image_size.append((5,5))\n",
    "accuracy.append(class_acc(preds,Yt))\n",
    "print(\"Bayes Accuracy 5x5: \",class_acc(preds,Yt))"
   ]
  },
  {
   "cell_type": "markdown",
   "id": "866f72d4",
   "metadata": {},
   "source": [
    "# Bayes Classifier 10x10"
   ]
  },
  {
   "cell_type": "code",
   "execution_count": 36,
   "id": "f60c30e4",
   "metadata": {
    "scrolled": true
   },
   "outputs": [
    {
     "name": "stdout",
     "output_type": "stream",
     "text": [
      "Bayes Accuracy 10x10:  75.64999999999999\n"
     ]
    }
   ],
   "source": [
    "X_10x10 = cfar10_xXx_color(X,10)\n",
    "Xt_10x10 = cfar10_xXx_color(X,10)\n",
    "mu,sigma,p = cfar_10_bayes_learn(X_10x10,Y)\n",
    "preds = [cifar10_classifier_bayes(x,mu,sigma,p) for x in Xt_10x10]\n",
    "\n",
    "image_size.append((10,10))\n",
    "accuracy.append(class_acc(preds,Yt))\n",
    "print(\"Bayes Accuracy 10x10: \",class_acc(preds,Yt))"
   ]
  },
  {
   "cell_type": "markdown",
   "id": "a8afb392",
   "metadata": {},
   "source": [
    "# Accuracy vs Window Size Graph"
   ]
  },
  {
   "cell_type": "code",
   "execution_count": 60,
   "id": "aa9e3793",
   "metadata": {},
   "outputs": [
    {
     "data": {
      "image/png": "[encoded data removed]",
      "text/plain": [
       "<Figure size 432x288 with 1 Axes>"
      ]
     },
     "metadata": {
      "needs_background": "light"
     },
     "output_type": "display_data"
    }
   ],
   "source": [
    "plt.plot(image_size,accuracy)\n",
    "plt.title('Accuracy vs Window size')\n",
    "plt.xlabel('Window size')\n",
    "plt.ylabel('Accuracy')\n",
    "plt.show()\n"
   ]
  }
 ],
 "metadata": {
  "kernelspec": {
   "display_name": "Python 3.9.7 ('base')",
   "language": "python",
   "name": "python3"
  },
  "language_info": {
   "codemirror_mode": {
    "name": "ipython",
    "version": 3
   },
   "file_extension": ".py",
   "mimetype": "text/x-python",
   "name": "python",
   "nbconvert_exporter": "python",
   "pygments_lexer": "ipython3",
   "version": "3.9.7"
  },
  "vscode": {
   "interpreter": {
    "hash": "1cefdeb59c43d89e5767892a600a499677dda13ee9c5ba0bbc9afe26011f4cd0"
   }
  }
 },
 "nbformat": 4,
 "nbformat_minor": 5
}
