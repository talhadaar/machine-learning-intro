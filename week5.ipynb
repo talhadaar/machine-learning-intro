{
 "cells": [
  {
   "cell_type": "markdown",
   "metadata": {},
   "source": [
    "# 15th Nov\n",
    "\n",
    "### K-Nearest Algo\n",
    "No learning, K is any arbitrary integer greater than 0\n",
    "1. Find similarity (Proportional Inverse of Distance)\n",
    "2. Sort answers based on increasing distance\n",
    "3. Select top K answers\n",
    "4. Assign Labels with Voting\n",
    "\n",
    "##### Distances\n",
    "- Manhattan, Euclidean, Minkovsky, Chebychev\n",
    "\n",
    "#### random\n",
    "- RANSAC algo"
   ]
  },
  {
   "cell_type": "code",
   "execution_count": 47,
   "metadata": {},
   "outputs": [],
   "source": [
    "import numpy as np\n",
    "import math\n",
    "\n",
    "a = 0\n",
    "b = 1\n",
    "c = 2\n",
    "d = 3\n",
    "o = 4\n",
    "\n",
    "# for t, c in zip(lhs, rhs):\n",
    "#         distance = abs(t-c) if absolute else t-c\n",
    "#         sum+=math.pow(distance, order)\n",
    "#     return sum if absolute else math.sqrt(sum)\n",
    "\n",
    "def distance(lhs, rhs, order = 1, manhattan = False):\n",
    "    distance = np.subtract(lhs, rhs)\n",
    "    distance = np.abs(distance) if manhattan else distance\n",
    "    distance = np.power(distance, order)\n",
    "    sum = np.sum(distance)\n",
    "    return sum if manhattan else np.power(-order)\n",
    "    \n",
    "\n",
    "irisis = np.loadtxt(\"iris_f22.txt\",\n",
    "                 delimiter=\",\", dtype=float)"
   ]
  },
  {
   "cell_type": "code",
   "execution_count": 48,
   "metadata": {},
   "outputs": [
    {
     "ename": "TypeError",
     "evalue": "power() takes from 2 to 3 positional arguments but 1 were given",
     "output_type": "error",
     "traceback": [
      "\u001b[0;31m---------------------------------------------------------------------------\u001b[0m",
      "\u001b[0;31mTypeError\u001b[0m                                 Traceback (most recent call last)",
      "\u001b[1;32m/Users/muhammadtalhadar/repos/iml/week5.ipynb Cell 3\u001b[0m in \u001b[0;36m<cell line: 1>\u001b[0;34m()\u001b[0m\n\u001b[0;32m----> <a href='vscode-notebook-cell:/Users/muhammadtalhadar/repos/iml/week5.ipynb#X14sZmlsZQ%3D%3D?line=0'>1</a>\u001b[0m distance(irisis[\u001b[39m0\u001b[39;49m][:\u001b[39m-\u001b[39;49m\u001b[39m1\u001b[39;49m], irisis[\u001b[39m1\u001b[39;49m][:\u001b[39m-\u001b[39;49m\u001b[39m1\u001b[39;49m])\n",
      "\u001b[1;32m/Users/muhammadtalhadar/repos/iml/week5.ipynb Cell 3\u001b[0m in \u001b[0;36mdistance\u001b[0;34m(lhs, rhs, order, manhattan)\u001b[0m\n\u001b[1;32m     <a href='vscode-notebook-cell:/Users/muhammadtalhadar/repos/iml/week5.ipynb#X14sZmlsZQ%3D%3D?line=17'>18</a>\u001b[0m distance \u001b[39m=\u001b[39m np\u001b[39m.\u001b[39mpower(distance, order)\n\u001b[1;32m     <a href='vscode-notebook-cell:/Users/muhammadtalhadar/repos/iml/week5.ipynb#X14sZmlsZQ%3D%3D?line=18'>19</a>\u001b[0m \u001b[39msum\u001b[39m \u001b[39m=\u001b[39m np\u001b[39m.\u001b[39msum(distance)\n\u001b[0;32m---> <a href='vscode-notebook-cell:/Users/muhammadtalhadar/repos/iml/week5.ipynb#X14sZmlsZQ%3D%3D?line=19'>20</a>\u001b[0m \u001b[39mreturn\u001b[39;00m \u001b[39msum\u001b[39m \u001b[39mif\u001b[39;00m manhattan \u001b[39melse\u001b[39;00m np\u001b[39m.\u001b[39;49mpower(\u001b[39m-\u001b[39;49morder)\n",
      "\u001b[0;31mTypeError\u001b[0m: power() takes from 2 to 3 positional arguments but 1 were given"
     ]
    }
   ],
   "source": [
    "distance(irisis[0][:-1], irisis[1][:-1])"
   ]
  },
  {
   "cell_type": "code",
   "execution_count": null,
   "metadata": {},
   "outputs": [],
   "source": []
  }
 ],
 "metadata": {
  "kernelspec": {
   "display_name": "Python 3.9.12 ('base')",
   "language": "python",
   "name": "python3"
  },
  "language_info": {
   "codemirror_mode": {
    "name": "ipython",
    "version": 3
   },
   "file_extension": ".py",
   "mimetype": "text/x-python",
   "name": "python",
   "nbconvert_exporter": "python",
   "pygments_lexer": "ipython3",
   "version": "3.9.12"
  },
  "orig_nbformat": 4,
  "vscode": {
   "interpreter": {
    "hash": "7a5f4699bf1e1bb2042dca40e01832154fdbd6cf77a843a46b9bbbde19418e8b"
   }
  }
 },
 "nbformat": 4,
 "nbformat_minor": 2
}
